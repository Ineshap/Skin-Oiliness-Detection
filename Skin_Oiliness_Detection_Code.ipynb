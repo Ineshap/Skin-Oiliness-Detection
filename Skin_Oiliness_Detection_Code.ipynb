{
  "cells": [
    {
      "cell_type": "code",
      "execution_count": null,
      "id": "0191dd09",
      "metadata": {
        "id": "0191dd09",
        "outputId": "7772ed36-53c4-42fd-b69f-1cc320c21658"
      },
      "outputs": [
        {
          "name": "stdout",
          "output_type": "stream",
          "text": [
            "WARNING:tensorflow:From C:\\Users\\thisu\\Python DataScience\\DBA16\\IM0\\Lib\\site-packages\\keras\\src\\losses.py:2976: The name tf.losses.sparse_softmax_cross_entropy is deprecated. Please use tf.compat.v1.losses.sparse_softmax_cross_entropy instead.\n",
            "\n"
          ]
        }
      ],
      "source": [
        "\n",
        "import tensorflow as tf\n",
        "from tensorflow.keras.models import Sequential\n",
        "from tensorflow.keras.layers import Dense, Conv2D, MaxPooling2D, Flatten, Dropout\n",
        "from tensorflow.keras.preprocessing.image import ImageDataGenerator\n",
        "from tensorflow.keras.applications import MobileNetV2, VGG16\n",
        "from tensorflow.keras.applications.mobilenet_v2 import preprocess_input as mobilenet_preprocess_input\n",
        "from tensorflow.keras.applications.vgg16 import preprocess_input as vgg16_preprocess_input\n",
        "import os\n",
        "import numpy as np\n",
        "import matplotlib.pyplot as plt"
      ]
    },
    {
      "cell_type": "code",
      "execution_count": null,
      "id": "b2fc30bb",
      "metadata": {
        "id": "b2fc30bb"
      },
      "outputs": [],
      "source": [
        "train_path = 'C:/Users/thisu/Python DataScience/DBA16/SkinTypesNew/Train'\n",
        "valid_path = 'C:/Users/thisu/Python DataScience/DBA16/SkinTypesNew/Validate'\n",
        "test_path = 'C:/Users/thisu/Python DataScience/DBA16/SkinTypesNew/Test'"
      ]
    },
    {
      "cell_type": "code",
      "execution_count": null,
      "id": "731f5879",
      "metadata": {
        "id": "731f5879"
      },
      "outputs": [],
      "source": [
        "img_height, img_width = 224, 224\n",
        "batch_size = 32"
      ]
    },
    {
      "cell_type": "code",
      "execution_count": null,
      "id": "da4016d4",
      "metadata": {
        "id": "da4016d4",
        "outputId": "e76cd4c1-be9f-48e0-adfc-0515cd475b41"
      },
      "outputs": [
        {
          "name": "stdout",
          "output_type": "stream",
          "text": [
            "Found 239 images belonging to 3 classes.\n",
            "Found 29 images belonging to 3 classes.\n"
          ]
        }
      ],
      "source": [
        "rotation_range = 20\n",
        "\n",
        "train_datagen = ImageDataGenerator(\n",
        "    rescale=1./255,\n",
        "    rotation_range=rotation_range,\n",
        "    horizontal_flip=True\n",
        ")\n",
        "\n",
        "# Load and preprocess training data\n",
        "train_generator = train_datagen.flow_from_directory(\n",
        "    train_path,\n",
        "    target_size=(img_height, img_width),\n",
        "    batch_size=batch_size,\n",
        "    class_mode='categorical',\n",
        "    subset='training'\n",
        "\n",
        "\n",
        "validation_datagen = ImageDataGenerator(\n",
        "    rescale=1./255\n",
        ")\n",
        "\n",
        "# Load and preprocess validation data\n",
        "validation_generator = validation_datagen.flow_from_directory(\n",
        "    valid_path,\n",
        "    target_size=(224, 224),\n",
        "    batch_size=10,\n",
        "    class_mode='categorical'"
      ]
    },
    {
      "cell_type": "code",
      "execution_count": null,
      "id": "e0d55db7",
      "metadata": {
        "id": "e0d55db7",
        "outputId": "34f23bfe-4a41-42cf-a6af-d01117993278"
      },
      "outputs": [
        {
          "name": "stdout",
          "output_type": "stream",
          "text": [
            "WARNING:tensorflow:From C:\\Users\\thisu\\Python DataScience\\DBA16\\IM0\\Lib\\site-packages\\keras\\src\\backend.py:1398: The name tf.executing_eagerly_outside_functions is deprecated. Please use tf.compat.v1.executing_eagerly_outside_functions instead.\n",
            "\n",
            "WARNING:tensorflow:From C:\\Users\\thisu\\Python DataScience\\DBA16\\IM0\\Lib\\site-packages\\keras\\src\\layers\\pooling\\max_pooling2d.py:161: The name tf.nn.max_pool is deprecated. Please use tf.nn.max_pool2d instead.\n",
            "\n"
          ]
        }
      ],
      "source": [
        "vgg = VGG16(input_shape=(224,224,3), weights='imagenet', include_top=False)\n",
        "for layer in vgg.layers:\n",
        "    layer.trainable = False\n",
        "\n",
        "num_classes = 3\n",
        "\n",
        "# Custom layers on top of VGG16\n",
        "x = Flatten()(vgg.output)\n",
        "x = Dropout(0.5)(x)\n",
        "x = Dense(512, activation='relu')(x)\n",
        "x = Dense(256, activation='relu')(x)\n",
        "predictions = Dense(num_classes, activation='softmax')(x)\n",
        "\n",
        "# Model Creation\n",
        "model = tf.keras.Model(inputs=vgg.input, outputs=predictions)\n"
      ]
    },
    {
      "cell_type": "code",
      "execution_count": null,
      "id": "36cd4bc8",
      "metadata": {
        "id": "36cd4bc8",
        "outputId": "db904c0e-54eb-4cc2-e2ea-12075c4a94d0"
      },
      "outputs": [
        {
          "name": "stdout",
          "output_type": "stream",
          "text": [
            "WARNING:tensorflow:From C:\\Users\\thisu\\Python DataScience\\DBA16\\IM0\\Lib\\site-packages\\keras\\src\\optimizers\\__init__.py:309: The name tf.train.Optimizer is deprecated. Please use tf.compat.v1.train.Optimizer instead.\n",
            "\n"
          ]
        }
      ],
      "source": [
        "model.compile(optimizer='adam',\n",
        "              loss='categorical_crossentropy',\n",
        "              metrics=['accuracy'])\n"
      ]
    },
    {
      "cell_type": "code",
      "execution_count": null,
      "id": "41f5a650",
      "metadata": {
        "id": "41f5a650",
        "outputId": "c7f91a10-5a87-4d43-bd00-6ede0a99d790"
      },
      "outputs": [
        {
          "name": "stdout",
          "output_type": "stream",
          "text": [
            "Model: \"model\"\n",
            "_________________________________________________________________\n",
            " Layer (type)                Output Shape              Param #   \n",
            "=================================================================\n",
            " input_1 (InputLayer)        [(None, 224, 224, 3)]     0         \n",
            "                                                                 \n",
            " block1_conv1 (Conv2D)       (None, 224, 224, 64)      1792      \n",
            "                                                                 \n",
            " block1_conv2 (Conv2D)       (None, 224, 224, 64)      36928     \n",
            "                                                                 \n",
            " block1_pool (MaxPooling2D)  (None, 112, 112, 64)      0         \n",
            "                                                                 \n",
            " block2_conv1 (Conv2D)       (None, 112, 112, 128)     73856     \n",
            "                                                                 \n",
            " block2_conv2 (Conv2D)       (None, 112, 112, 128)     147584    \n",
            "                                                                 \n",
            " block2_pool (MaxPooling2D)  (None, 56, 56, 128)       0         \n",
            "                                                                 \n",
            " block3_conv1 (Conv2D)       (None, 56, 56, 256)       295168    \n",
            "                                                                 \n",
            " block3_conv2 (Conv2D)       (None, 56, 56, 256)       590080    \n",
            "                                                                 \n",
            " block3_conv3 (Conv2D)       (None, 56, 56, 256)       590080    \n",
            "                                                                 \n",
            " block3_pool (MaxPooling2D)  (None, 28, 28, 256)       0         \n",
            "                                                                 \n",
            " block4_conv1 (Conv2D)       (None, 28, 28, 512)       1180160   \n",
            "                                                                 \n",
            " block4_conv2 (Conv2D)       (None, 28, 28, 512)       2359808   \n",
            "                                                                 \n",
            " block4_conv3 (Conv2D)       (None, 28, 28, 512)       2359808   \n",
            "                                                                 \n",
            " block4_pool (MaxPooling2D)  (None, 14, 14, 512)       0         \n",
            "                                                                 \n",
            " block5_conv1 (Conv2D)       (None, 14, 14, 512)       2359808   \n",
            "                                                                 \n",
            " block5_conv2 (Conv2D)       (None, 14, 14, 512)       2359808   \n",
            "                                                                 \n",
            " block5_conv3 (Conv2D)       (None, 14, 14, 512)       2359808   \n",
            "                                                                 \n",
            " block5_pool (MaxPooling2D)  (None, 7, 7, 512)         0         \n",
            "                                                                 \n",
            " flatten (Flatten)           (None, 25088)             0         \n",
            "                                                                 \n",
            " dropout (Dropout)           (None, 25088)             0         \n",
            "                                                                 \n",
            " dense (Dense)               (None, 512)               12845568  \n",
            "                                                                 \n",
            " dense_1 (Dense)             (None, 256)               131328    \n",
            "                                                                 \n",
            " dense_2 (Dense)             (None, 3)                 771       \n",
            "                                                                 \n",
            "=================================================================\n",
            "Total params: 27692355 (105.64 MB)\n",
            "Trainable params: 12977667 (49.51 MB)\n",
            "Non-trainable params: 14714688 (56.13 MB)\n",
            "_________________________________________________________________\n"
          ]
        }
      ],
      "source": [
        "model.summary()\n"
      ]
    },
    {
      "cell_type": "code",
      "execution_count": null,
      "id": "ced94a52",
      "metadata": {
        "id": "ced94a52",
        "outputId": "5cff9ec8-35f3-4aa1-c743-dab0b906f8d8"
      },
      "outputs": [
        {
          "name": "stderr",
          "output_type": "stream",
          "text": [
            "C:\\Users\\thisu\\AppData\\Local\\Temp\\ipykernel_18084\\3853966236.py:2: UserWarning: `Model.fit_generator` is deprecated and will be removed in a future version. Please use `Model.fit`, which supports generators.\n",
            "  history = model.fit_generator(\n"
          ]
        },
        {
          "name": "stdout",
          "output_type": "stream",
          "text": [
            "Epoch 1/10\n",
            "WARNING:tensorflow:From C:\\Users\\thisu\\Python DataScience\\DBA16\\IM0\\Lib\\site-packages\\keras\\src\\utils\\tf_utils.py:492: The name tf.ragged.RaggedTensorValue is deprecated. Please use tf.compat.v1.ragged.RaggedTensorValue instead.\n",
            "\n",
            "WARNING:tensorflow:From C:\\Users\\thisu\\Python DataScience\\DBA16\\IM0\\Lib\\site-packages\\keras\\src\\engine\\base_layer_utils.py:384: The name tf.executing_eagerly_outside_functions is deprecated. Please use tf.compat.v1.executing_eagerly_outside_functions instead.\n",
            "\n",
            "7/7 [==============================] - 29s 4s/step - loss: 3.0486 - accuracy: 0.3671 - val_loss: 0.8373 - val_accuracy: 0.5000\n",
            "Epoch 2/10\n",
            "7/7 [==============================] - 29s 4s/step - loss: 1.3787 - accuracy: 0.5604 - val_loss: 1.1605 - val_accuracy: 0.5000\n",
            "Epoch 3/10\n",
            "7/7 [==============================] - 29s 5s/step - loss: 1.0053 - accuracy: 0.5507 - val_loss: 0.7059 - val_accuracy: 0.6500\n",
            "Epoch 4/10\n",
            "7/7 [==============================] - 32s 5s/step - loss: 0.7387 - accuracy: 0.6786 - val_loss: 0.9499 - val_accuracy: 0.5000\n",
            "Epoch 5/10\n",
            "7/7 [==============================] - 31s 4s/step - loss: 0.6552 - accuracy: 0.6957 - val_loss: 0.7964 - val_accuracy: 0.5500\n",
            "Epoch 6/10\n",
            "7/7 [==============================] - 31s 4s/step - loss: 0.6708 - accuracy: 0.7143 - val_loss: 0.8779 - val_accuracy: 0.8000\n",
            "Epoch 7/10\n",
            "7/7 [==============================] - 30s 4s/step - loss: 0.4844 - accuracy: 0.7874 - val_loss: 1.0404 - val_accuracy: 0.5500\n",
            "Epoch 8/10\n",
            "7/7 [==============================] - 30s 4s/step - loss: 0.4872 - accuracy: 0.7971 - val_loss: 1.1271 - val_accuracy: 0.5500\n",
            "Epoch 9/10\n",
            "7/7 [==============================] - 30s 4s/step - loss: 0.4728 - accuracy: 0.7778 - val_loss: 0.7816 - val_accuracy: 0.7500\n",
            "Epoch 10/10\n",
            "7/7 [==============================] - 30s 4s/step - loss: 0.3827 - accuracy: 0.8551 - val_loss: 0.6965 - val_accuracy: 0.8000\n"
          ]
        }
      ],
      "source": [
        "epochs = 10\n",
        "history = model.fit_generator(\n",
        "    train_generator,\n",
        "    steps_per_epoch=train_generator.n // train_generator.batch_size,\n",
        "    epochs=epochs,\n",
        "    validation_data=validation_generator,\n",
        "    validation_steps=validation_generator.n // validation_generator.batch_size\n",
        ")\n"
      ]
    },
    {
      "cell_type": "code",
      "execution_count": null,
      "id": "d87f76b3",
      "metadata": {
        "id": "d87f76b3",
        "outputId": "a2822631-d316-4ca5-c019-2d784a8158ea"
      },
      "outputs": [
        {
          "name": "stderr",
          "output_type": "stream",
          "text": [
            "C:\\Users\\thisu\\Python DataScience\\DBA16\\IM0\\Lib\\site-packages\\keras\\src\\engine\\training.py:3103: UserWarning: You are saving your model as an HDF5 file via `model.save()`. This file format is considered legacy. We recommend using instead the native Keras format, e.g. `model.save('my_model.keras')`.\n",
            "  saving_api.save_model(\n",
            "C:\\Users\\thisu\\AppData\\Local\\Temp\\ipykernel_18084\\2420159647.py:4: UserWarning: You are saving your model as an HDF5 file via `model.save()`. This file format is considered legacy. We recommend using instead the native Keras format, e.g. `model.save('my_model.keras')`.\n",
            "  save_model(model, 'Skin Oiliness Severity Detection Final Inesha 12-30.h5')\n"
          ]
        }
      ],
      "source": [
        "from keras.models import load_model, save_model\n",
        "\n",
        "model.save('Skin Oiliness Severity Detection Final Inesha 12-30.h5')\n",
        "save_model(model, 'Skin Oiliness Severity Detection Final Inesha 12-30.h5')\n"
      ]
    },
    {
      "cell_type": "code",
      "execution_count": null,
      "id": "8d5d74d1",
      "metadata": {
        "id": "8d5d74d1"
      },
      "outputs": [],
      "source": []
    }
  ],
  "metadata": {
    "kernelspec": {
      "display_name": "IM0",
      "language": "python",
      "name": "im0"
    },
    "language_info": {
      "codemirror_mode": {
        "name": "ipython",
        "version": 3
      },
      "file_extension": ".py",
      "mimetype": "text/x-python",
      "name": "python",
      "nbconvert_exporter": "python",
      "pygments_lexer": "ipython3",
      "version": "3.11.5"
    },
    "colab": {
      "provenance": []
    }
  },
  "nbformat": 4,
  "nbformat_minor": 5
}